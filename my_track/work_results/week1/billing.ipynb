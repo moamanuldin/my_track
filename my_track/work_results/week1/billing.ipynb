{
  "cells": [
    {
      "cell_type": "markdown",
      "metadata": {
        "id": "view-in-github",
        "colab_type": "text"
      },
      "source": [
        "<a href=\"https://colab.research.google.com/github/moamanuldin/my_track/blob/main/my_track/work_results/week1/billing.ipynb\" target=\"_parent\"><img src=\"https://colab.research.google.com/assets/colab-badge.svg\" alt=\"Open In Colab\"/></a>"
      ]
    },
    {
      "cell_type": "markdown",
      "metadata": {
        "id": "O8p1rfKOfK7l"
      },
      "source": [
        "Project: Combine input, if-else, and loops\n",
        "\n",
        "Task: Build a mini billing system (subtotal, tax, total)"
      ]
    },
    {
      "cell_type": "code",
      "execution_count": null,
      "metadata": {
        "id": "i0p7cpZLfPSQ"
      },
      "outputs": [],
      "source": [
        "stock = {\"Apple\": {\"Stock\": 5, \"Price\": 20},\n",
        "         \"Banana\": {\"Stock\": 12, \"Price\": 17},\n",
        "         \"Mango\": {\"Stock\": 10, \"Price\": 25}\n",
        "         }\n",
        "cart = {}"
      ]
    },
    {
      "cell_type": "code",
      "source": [
        "while True:\n",
        "  purchase = input(f\"Choose the item you want to buy from this list: {', '.join(stock.keys())} \").strip().title()\n",
        "  if purchase in stock.keys() and purchase in cart.keys():\n",
        "    exist = input(f\"You already have {cart[purchase]['amount']} {purchase}s in your cart, do you want to adjust the quantity, continue, or check out: \").lower()\n",
        "    if exist == \"continue\":\n",
        "      continue\n",
        "    elif exist.startswith(\"check out\"):\n",
        "      print(f\"Your subtotal plus tax for {purchase} is {int(amount) * stock[purchase]['Price'] * 1.12}\")\n",
        "    elif exist.startswith(\"adjust\"):\n",
        "      amount = input(\"Enter the total amount you need: \")\n",
        "      if int(amount) > int(stock[purchase][\"Stock\"]):\n",
        "        print(\"Not enough in stock.\")\n",
        "        amount = input(\"Enter the total amount you need: \")\n",
        "        continue\n",
        "      else:\n",
        "        cart[purchase] = {\"amount\": int(amount), \"total\": int(amount) * stock[purchase][\"Price\"]}\n",
        "        stock[purchase][\"Stock\"] -= int(amount)\n",
        "        purchase = input(f\"Choose the item you want to buy from this list: {', '.join(stock.keys())}\").strip().title()\n",
        "    else:\n",
        "      print(\"Error 404, item not found!\")\n",
        "      purchase = input(f\"Choose the item you want to buy from this list: {', '.join(stock.keys())} \").strip().title()\n",
        "      continue\n",
        "\n",
        "  else:\n",
        "    if purchase in stock.keys() and purchase not in cart.keys():\n",
        "      amount = input(\"Enter the amount you need: \")\n",
        "      while int(amount) <= stock[purchase][\"Stock\"]:\n",
        "        cart[purchase] = {\"amount\": int(amount), \"total\": int(amount) * stock[purchase][\"Price\"]}\n",
        "        if (input(\"Do you want to continue shopping? Yes/No \")).lower() == \"yes\":\n",
        "          stock[purchase][\"Stock\"] -= int(amount)\n",
        "          continue\n",
        "        else:\n",
        "          print(f\"Your subtotal plus tax for {purchase} is {int(amount) * stock[purchase]['Price'] * 1.12: 0.2f}\")\n",
        "          pay = input(\"Proceed to pay? Y/N \").lower()\n",
        "          if pay == \"y\":\n",
        "            stock[purchase][\"Stock\"] -= int(amount)\n",
        "            break\n",
        "          else:\n",
        "            continue\n",
        "\n",
        "\n",
        "\n",
        "    else:\n",
        "      print(\"Error 404, item not found!\")"
      ],
      "metadata": {
        "colab": {
          "base_uri": "https://localhost:8080/",
          "height": 370
        },
        "id": "qzIO5SXDm9tw",
        "outputId": "d8a4d50a-535d-48e7-ae4d-638a1f106aff"
      },
      "execution_count": null,
      "outputs": [
        {
          "output_type": "error",
          "ename": "KeyboardInterrupt",
          "evalue": "Interrupted by user",
          "traceback": [
            "\u001b[0;31m---------------------------------------------------------------------------\u001b[0m",
            "\u001b[0;31mKeyboardInterrupt\u001b[0m                         Traceback (most recent call last)",
            "\u001b[0;32m<ipython-input-26-3b71d8910ff8>\u001b[0m in \u001b[0;36m<cell line: 0>\u001b[0;34m()\u001b[0m\n\u001b[1;32m      1\u001b[0m \u001b[0;32mwhile\u001b[0m \u001b[0;32mTrue\u001b[0m\u001b[0;34m:\u001b[0m\u001b[0;34m\u001b[0m\u001b[0;34m\u001b[0m\u001b[0m\n\u001b[0;32m----> 2\u001b[0;31m   \u001b[0mpurchase\u001b[0m \u001b[0;34m=\u001b[0m \u001b[0minput\u001b[0m\u001b[0;34m(\u001b[0m\u001b[0;34mf\"Choose the item you want to buy from this list: {', '.join(stock.keys())} \"\u001b[0m\u001b[0;34m)\u001b[0m\u001b[0;34m.\u001b[0m\u001b[0mstrip\u001b[0m\u001b[0;34m(\u001b[0m\u001b[0;34m)\u001b[0m\u001b[0;34m.\u001b[0m\u001b[0mtitle\u001b[0m\u001b[0;34m(\u001b[0m\u001b[0;34m)\u001b[0m\u001b[0;34m\u001b[0m\u001b[0;34m\u001b[0m\u001b[0m\n\u001b[0m\u001b[1;32m      3\u001b[0m   \u001b[0;32mif\u001b[0m \u001b[0mpurchase\u001b[0m \u001b[0;32min\u001b[0m \u001b[0mstock\u001b[0m\u001b[0;34m.\u001b[0m\u001b[0mkeys\u001b[0m\u001b[0;34m(\u001b[0m\u001b[0;34m)\u001b[0m \u001b[0;32mand\u001b[0m \u001b[0mpurchase\u001b[0m \u001b[0;32min\u001b[0m \u001b[0mcart\u001b[0m\u001b[0;34m.\u001b[0m\u001b[0mkeys\u001b[0m\u001b[0;34m(\u001b[0m\u001b[0;34m)\u001b[0m\u001b[0;34m:\u001b[0m\u001b[0;34m\u001b[0m\u001b[0;34m\u001b[0m\u001b[0m\n\u001b[1;32m      4\u001b[0m     \u001b[0mexist\u001b[0m \u001b[0;34m=\u001b[0m \u001b[0minput\u001b[0m\u001b[0;34m(\u001b[0m\u001b[0;34mf\"You already have {cart[purchase]['amount']} {purchase}s in your cart, do you want to adjust the quantity, continue, or check out: \"\u001b[0m\u001b[0;34m)\u001b[0m\u001b[0;34m.\u001b[0m\u001b[0mlower\u001b[0m\u001b[0;34m(\u001b[0m\u001b[0;34m)\u001b[0m\u001b[0;34m\u001b[0m\u001b[0;34m\u001b[0m\u001b[0m\n\u001b[1;32m      5\u001b[0m     \u001b[0;32mif\u001b[0m \u001b[0mexist\u001b[0m \u001b[0;34m==\u001b[0m \u001b[0;34m\"continue\"\u001b[0m\u001b[0;34m:\u001b[0m\u001b[0;34m\u001b[0m\u001b[0;34m\u001b[0m\u001b[0m\n",
            "\u001b[0;32m/usr/local/lib/python3.11/dist-packages/ipykernel/kernelbase.py\u001b[0m in \u001b[0;36mraw_input\u001b[0;34m(self, prompt)\u001b[0m\n\u001b[1;32m   1175\u001b[0m                 \u001b[0;34m\"raw_input was called, but this frontend does not support input requests.\"\u001b[0m\u001b[0;34m\u001b[0m\u001b[0;34m\u001b[0m\u001b[0m\n\u001b[1;32m   1176\u001b[0m             )\n\u001b[0;32m-> 1177\u001b[0;31m         return self._input_request(\n\u001b[0m\u001b[1;32m   1178\u001b[0m             \u001b[0mstr\u001b[0m\u001b[0;34m(\u001b[0m\u001b[0mprompt\u001b[0m\u001b[0;34m)\u001b[0m\u001b[0;34m,\u001b[0m\u001b[0;34m\u001b[0m\u001b[0;34m\u001b[0m\u001b[0m\n\u001b[1;32m   1179\u001b[0m             \u001b[0mself\u001b[0m\u001b[0;34m.\u001b[0m\u001b[0m_parent_ident\u001b[0m\u001b[0;34m[\u001b[0m\u001b[0;34m\"shell\"\u001b[0m\u001b[0;34m]\u001b[0m\u001b[0;34m,\u001b[0m\u001b[0;34m\u001b[0m\u001b[0;34m\u001b[0m\u001b[0m\n",
            "\u001b[0;32m/usr/local/lib/python3.11/dist-packages/ipykernel/kernelbase.py\u001b[0m in \u001b[0;36m_input_request\u001b[0;34m(self, prompt, ident, parent, password)\u001b[0m\n\u001b[1;32m   1217\u001b[0m             \u001b[0;32mexcept\u001b[0m \u001b[0mKeyboardInterrupt\u001b[0m\u001b[0;34m:\u001b[0m\u001b[0;34m\u001b[0m\u001b[0;34m\u001b[0m\u001b[0m\n\u001b[1;32m   1218\u001b[0m                 \u001b[0;31m# re-raise KeyboardInterrupt, to truncate traceback\u001b[0m\u001b[0;34m\u001b[0m\u001b[0;34m\u001b[0m\u001b[0m\n\u001b[0;32m-> 1219\u001b[0;31m                 \u001b[0;32mraise\u001b[0m \u001b[0mKeyboardInterrupt\u001b[0m\u001b[0;34m(\u001b[0m\u001b[0;34m\"Interrupted by user\"\u001b[0m\u001b[0;34m)\u001b[0m \u001b[0;32mfrom\u001b[0m \u001b[0;32mNone\u001b[0m\u001b[0;34m\u001b[0m\u001b[0;34m\u001b[0m\u001b[0m\n\u001b[0m\u001b[1;32m   1220\u001b[0m             \u001b[0;32mexcept\u001b[0m \u001b[0mException\u001b[0m\u001b[0;34m:\u001b[0m\u001b[0;34m\u001b[0m\u001b[0;34m\u001b[0m\u001b[0m\n\u001b[1;32m   1221\u001b[0m                 \u001b[0mself\u001b[0m\u001b[0;34m.\u001b[0m\u001b[0mlog\u001b[0m\u001b[0;34m.\u001b[0m\u001b[0mwarning\u001b[0m\u001b[0;34m(\u001b[0m\u001b[0;34m\"Invalid Message:\"\u001b[0m\u001b[0;34m,\u001b[0m \u001b[0mexc_info\u001b[0m\u001b[0;34m=\u001b[0m\u001b[0;32mTrue\u001b[0m\u001b[0;34m)\u001b[0m\u001b[0;34m\u001b[0m\u001b[0;34m\u001b[0m\u001b[0m\n",
            "\u001b[0;31mKeyboardInterrupt\u001b[0m: Interrupted by user"
          ]
        }
      ]
    }
  ],
  "metadata": {
    "colab": {
      "provenance": [],
      "authorship_tag": "ABX9TyOpHplYDNUZq3cBVVohUBmm",
      "include_colab_link": true
    },
    "kernelspec": {
      "display_name": "Python 3",
      "name": "python3"
    },
    "language_info": {
      "name": "python"
    }
  },
  "nbformat": 4,
  "nbformat_minor": 0
}