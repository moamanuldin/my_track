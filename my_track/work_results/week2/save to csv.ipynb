{
  "cells": [
    {
      "cell_type": "markdown",
      "metadata": {
        "id": "view-in-github",
        "colab_type": "text"
      },
      "source": [
        "<a href=\"https://colab.research.google.com/github/moamanuldin/my_track/blob/main/billing.ipynb\" target=\"_parent\"><img src=\"https://colab.research.google.com/assets/colab-badge.svg\" alt=\"Open In Colab\"/></a>"
      ]
    },
    {
      "cell_type": "markdown",
      "source": [
        "#Latest update allows us to safe the data to a transaction file and clear the cart at checkout"
      ],
      "metadata": {
        "id": "9_X3DurYXzK5"
      }
    },
    {
      "cell_type": "code",
      "source": [
        "products = {\n",
        "    \"Apple\": {\"price\": 2.5, \"quantity\": 3},\n",
        "    \"Banana\": {\"price\": 1.0, \"quantity\": 5}\n",
        "}\n",
        "\n",
        "total = 0\n",
        "for key, details in products.items():\n",
        "  if details[\"quantity\"] * details[\"price\"] > 5:\n",
        "    total += details[\"price\"] * details[\"quantity\"] * 0.9\n",
        "  else:\n",
        "    total += details[\"price\"] * details[\"quantity\"]\n",
        "print(total)"
      ],
      "metadata": {
        "colab": {
          "base_uri": "https://localhost:8080/"
        },
        "id": "kCRDYiPR9cNI",
        "outputId": "29306e0b-a50c-40c2-e860-3d69882ad638"
      },
      "execution_count": null,
      "outputs": [
        {
          "output_type": "stream",
          "name": "stdout",
          "text": [
            "11.75\n"
          ]
        }
      ]
    },
    {
      "cell_type": "code",
      "source": [
        "import pandas as pd\n",
        "import datetime"
      ],
      "metadata": {
        "id": "WlfVZ8MsH9uL"
      },
      "execution_count": 40,
      "outputs": []
    },
    {
      "cell_type": "code",
      "source": [
        "stock = {\n",
        "    \"Apple\": {\"Stock\": 5, \"Price\": 20},\n",
        "    \"Banana\": {\"Stock\": 12, \"Price\": 17},\n",
        "    \"Mango\": {\"Stock\": 10, \"Price\": 25}\n",
        "}\n",
        "cart = {}\n",
        "# Convert the stock dictionary to a pandas DataFrame\n",
        "stock_df = pd.DataFrame.from_dict(stock, orient='index')\n",
        "# Save the DataFrame to a CSV file\n",
        "stock_df.to_csv('stock_data.csv')\n",
        "\n",
        "print(\"Stock data saved to a csv file\")"
      ],
      "metadata": {
        "id": "Y2xdhEFhIC94",
        "colab": {
          "base_uri": "https://localhost:8080/"
        },
        "outputId": "0dd62430-2104-4023-b1aa-c6cf3ac0c8f0"
      },
      "execution_count": 33,
      "outputs": [
        {
          "output_type": "stream",
          "name": "stdout",
          "text": [
            "Stock data saved to a csv file\n"
          ]
        }
      ]
    },
    {
      "cell_type": "code",
      "source": [
        "print(stock)"
      ],
      "metadata": {
        "colab": {
          "base_uri": "https://localhost:8080/"
        },
        "id": "HhHSBW0GBIjI",
        "outputId": "4934faa8-90c1-498b-afc2-1c4076306e61"
      },
      "execution_count": 22,
      "outputs": [
        {
          "output_type": "stream",
          "name": "stdout",
          "text": [
            "{'Apple': {'Stock': 4, 'Price': 20}, 'Banana': {'Stock': 12, 'Price': 17}, 'Mango': {'Stock': 10, 'Price': 25}}\n"
          ]
        }
      ]
    },
    {
      "cell_type": "code",
      "source": [
        "TAX_RATE = 1.12\n",
        "transactions = []\n",
        "def show_items():\n",
        "    print(\"Available items:\")\n",
        "    for name, info in stock.items():\n",
        "        print(f\"- {name}: {info['Stock']} in stock at ${info['Price']} each\")\n",
        "    print()\n",
        "\n",
        "\n",
        "def get_valid_choice():\n",
        "    while True:\n",
        "        purchase = input(\"Choose an item: \").strip().title()\n",
        "        if purchase in stock:\n",
        "            if stock[purchase][\"Stock\"] > 0:\n",
        "                return purchase\n",
        "            else:\n",
        "                print(f\"Sorry, {purchase} is out of stock.\")\n",
        "        else:\n",
        "            print(\"Item not found. Please choose from the list.\")\n",
        "\n",
        "\n",
        "def get_valid_amount(purchase):\n",
        "    max_amount = stock[purchase][\"Stock\"]\n",
        "    while True:\n",
        "        amount_str = input(f\"Enter quantity (1–{max_amount}): \").strip()\n",
        "        if amount_str.isdigit():\n",
        "            amount = int(amount_str)\n",
        "            if 1 <= amount <= max_amount:\n",
        "                return amount\n",
        "        print(\"Invalid quantity; please try again.\")\n",
        "\n",
        "\n",
        "def calculate_subtotal():\n",
        "    subtotal = sum(stock[item][\"Price\"] * data[\"amount\"] for item, data in cart.items())\n",
        "    return round(subtotal * TAX_RATE, 2)\n",
        "\n",
        "\n",
        "def handle_new_item(purchase):\n",
        "    amount = get_valid_amount(purchase)\n",
        "    cart[purchase] = {\n",
        "        \"amount\": amount,\n",
        "        \"price\": stock[purchase][\"Price\"],\n",
        "        \"total\": amount * stock[purchase][\"Price\"]\n",
        "        }\n",
        "    stock[purchase][\"Stock\"] -= amount\n",
        "    print(f\"Added {amount} x {purchase} to cart.\")\n",
        "\n",
        "\n",
        "def handle_existing_item(purchase):\n",
        "    current = cart[purchase][\"amount\"]\n",
        "    print(f\"You have {current} x {purchase} in your cart.\")\n",
        "    while True:\n",
        "        action = input(\"Choose: (1) Adjust quantity, (2) Continue shopping, (3) Checkout: \").strip()\n",
        "        if action == '1':\n",
        "            new_amount = get_valid_amount(purchase)\n",
        "            diff = new_amount - current\n",
        "            stock[purchase][\"Stock\"] -= diff\n",
        "            cart[purchase][\"amount\"] = new_amount\n",
        "            print(f\"Updated {purchase} to {new_amount} units in cart.\")\n",
        "            return 'continue'\n",
        "        elif action == '2':\n",
        "            return 'continue'\n",
        "        elif action == '3':\n",
        "            return 'checkout'\n",
        "        else:\n",
        "            print(\"Invalid option; please enter 1, 2, or 3.\")\n",
        "\n",
        "def save_transaction(cart):\n",
        "  items = [(product_name, details[\"amount\"]) for product_name, details in cart.items()]\n",
        "\n",
        "  new_transaction = [\n",
        "      {\n",
        "          \"timestamp\": datetime.datetime.now().strftime(\"%Y-%m-%d %H:%M:%S\"),\n",
        "          \"items\": items,\n",
        "          \"total\": calculate_subtotal()\n",
        "      }\n",
        "                     ]\n",
        "  transactions_df = pd.DataFrame(new_transaction)\n",
        "  transactions_df.to_csv(\n",
        "    'transactions.csv',\n",
        "    mode='a',\n",
        "    header=False,\n",
        "    index=False\n",
        "    )\n",
        "\n",
        "\n",
        "def checkout():\n",
        "    total = calculate_subtotal()\n",
        "    print(\"\\nCheckout Summary:\")\n",
        "    for purchase, data in cart.items():\n",
        "        price = stock[purchase][\"Price\"]\n",
        "        print(f\"- {purchase}: {data['amount']} x ${price} = ${price * data['amount']}\")\n",
        "    print(f\"Total with tax: ${total}\\n\")\n",
        "    confirm = input(\"Proceed to payment? (y/n): \").strip().lower()\n",
        "    if confirm == 'y':\n",
        "        print(\"Payment successful. Thank you for shopping!\")\n",
        "        # cart[purchase][\"time\"] = datetime.datetime.now()\n",
        "        # save_transaction(cart)\n",
        "        return True\n",
        "    else:\n",
        "        print(\"Checkout canceled; returning to shopping.\")\n",
        "        return False\n",
        "\n",
        "\n",
        "# Save transaction to a csv file\n",
        "def to_csv(cart):\n",
        "  cart_df = pd.DataFrame.from_dict(cart, orient='index')\n",
        "  cart_df.to_csv('cart_data.csv')\n",
        "\n",
        "def main():\n",
        "    print(\"Welcome to the shop!\\n\")\n",
        "    while True:\n",
        "        show_items()\n",
        "        purchase = get_valid_choice()\n",
        "        if purchase in cart:\n",
        "            action = handle_existing_item(purchase)\n",
        "        else:\n",
        "            handle_new_item(purchase)\n",
        "            action = input(\"Continue shopping or checkout? (c/checkout): \").strip().lower()\n",
        "        if action in ('checkout', '3'):\n",
        "            if checkout():\n",
        "                # to_csv(cart)\n",
        "                save_transaction(cart)\n",
        "                cart.clear()\n",
        "                break\n",
        "\n",
        "\n",
        "if __name__ == '__main__':\n",
        "    main()\n"
      ],
      "metadata": {
        "colab": {
          "base_uri": "https://localhost:8080/"
        },
        "id": "_4tEwjyBGw1W",
        "outputId": "a3e3c790-f04b-4e22-aa98-52ad6c49cded"
      },
      "execution_count": 39,
      "outputs": [
        {
          "output_type": "stream",
          "name": "stdout",
          "text": [
            "Welcome to the shop!\n",
            "\n",
            "Available items:\n",
            "- Apple: 3 in stock at $20 each\n",
            "- Banana: 10 in stock at $17 each\n",
            "- Mango: 10 in stock at $25 each\n",
            "\n",
            "Choose an item: apple\n",
            "Enter quantity (1–3): 1\n",
            "Added 1 x Apple to cart.\n",
            "Continue shopping or checkout? (c/checkout): checkout\n",
            "\n",
            "Checkout Summary:\n",
            "- Apple: 1 x $20 = $20\n",
            "Total with tax: $22.4\n",
            "\n",
            "Proceed to payment? (y/n): y\n",
            "Payment successful. Thank you for shopping!\n"
          ]
        }
      ]
    }
  ],
  "metadata": {
    "colab": {
      "provenance": [],
      "authorship_tag": "ABX9TyNF1ded7kHEu4AchU1v8gAT",
      "include_colab_link": true
    },
    "kernelspec": {
      "display_name": "Python 3",
      "name": "python3"
    },
    "language_info": {
      "name": "python"
    }
  },
  "nbformat": 4,
  "nbformat_minor": 0
}
