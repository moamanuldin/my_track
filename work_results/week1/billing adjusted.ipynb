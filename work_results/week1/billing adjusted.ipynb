{
  "cells": [
    {
      "cell_type": "markdown",
      "metadata": {
        "id": "O8p1rfKOfK7l"
      },
      "source": [
        "Project: Combine input, if-else, and loops\n",
        "\n",
        "Task: Build a mini billing system (subtotal, tax, total)"
      ]
    },
    {
      "cell_type": "markdown",
      "source": [
        "First, let's create our stock and define the cart"
      ],
      "metadata": {
        "id": "Ah5aPy6ZSi-d"
      }
    },
    {
      "cell_type": "markdown",
      "source": [
        "```\n",
        "                                                  START\n",
        "                                                    ↓\n",
        "                                  Show stock items → Ask user for item\n",
        "                                                    ↓\n",
        "                                            Is item in stock?\n",
        "                                          Yes ──────├────── No\n",
        "                                          ↓                 ↓\n",
        "                      Is item already in cart?          \"Error 404\"\n",
        "                          |─────────────┐\n",
        "                          |             NO\n",
        "                          |             ↓\n",
        "                          |         [New Item]  → ask for qty → add to cart\n",
        "                          ↓\n",
        "                         YES\n",
        "          ┌─────────────┬───────────────┬\n",
        "          ↓             ↓               ↓              \n",
        "        [Continue]   [Adjust Qty]   [Check Out]      \n",
        "          ↓             ↓               ↓              \n",
        "      purchase()    ask for qty     Show subtotal    \n",
        "          ↓             ↓               ↓              \n",
        "        stock--     update cart    ask to pay?     \n",
        "          ↓             ↓               ↓              \n",
        "        ask:  (Continue or check out)  Exit\n",
        "  continue shopping?\n",
        "          ↓\n",
        "      No ─├─ Yes → purchase()\n",
        "      ↓           ↓\n",
        "      ↓          END             \n",
        "Show subtotal → ask to pay?\n",
        "\n",
        "\n",
        "\n",
        "```\n",
        "\n"
      ],
      "metadata": {
        "id": "B9xDjrbWH-kk"
      }
    },
    {
      "cell_type": "code",
      "source": [
        "import pandas as pd"
      ],
      "metadata": {
        "id": "WlfVZ8MsH9uL"
      },
      "execution_count": 57,
      "outputs": []
    },
    {
      "cell_type": "code",
      "source": [
        "stock = {\n",
        "    \"Apple\": {\"Stock\": 5, \"Price\": 20},\n",
        "    \"Banana\": {\"Stock\": 12, \"Price\": 17},\n",
        "    \"Mango\": {\"Stock\": 10, \"Price\": 25}\n",
        "}\n",
        "cart = {}\n",
        "# Convert the stock dictionary to a pandas DataFrame\n",
        "stock_df = pd.DataFrame.from_dict(stock, orient='index')\n",
        "# Save the DataFrame to a CSV file\n",
        "stock_df.to_csv('stock_data.csv')\n",
        "\n",
        "print(\"Stock data saved to a csv file\")"
      ],
      "metadata": {
        "id": "Y2xdhEFhIC94"
      },
      "execution_count": null,
      "outputs": []
    },
    {
      "cell_type": "code",
      "source": [
        "TAX_RATE = 1.12\n",
        "\n",
        "def show_items():\n",
        "    print(\"Available items:\")\n",
        "    for name, info in stock.items():\n",
        "        print(f\"- {name}: {info['Stock']} in stock at ${info['Price']} each\")\n",
        "    print()\n",
        "\n",
        "\n",
        "def get_valid_choice():\n",
        "    while True:\n",
        "        purchase = input(\"Choose an item: \").strip().title()\n",
        "        if purchase in stock:\n",
        "            if stock[purchase][\"Stock\"] > 0:\n",
        "                return purchase\n",
        "            else:\n",
        "                print(f\"Sorry, {purchase} is out of stock.\")\n",
        "        else:\n",
        "            print(\"Item not found. Please choose from the list.\")\n",
        "\n",
        "\n",
        "def get_valid_amount(purchase):\n",
        "    max_amount = stock[purchase][\"Stock\"]\n",
        "    while True:\n",
        "        amount_str = input(f\"Enter quantity (1–{max_amount}): \").strip()\n",
        "        if amount_str.isdigit():\n",
        "            amount = int(amount_str)\n",
        "            if 1 <= amount <= max_amount:\n",
        "                return amount\n",
        "        print(\"Invalid quantity; please try again.\")\n",
        "\n",
        "\n",
        "def calculate_subtotal():\n",
        "    subtotal = sum(stock[item][\"Price\"] * data[\"amount\"] for item, data in cart.items())\n",
        "    return round(subtotal * TAX_RATE, 2)\n",
        "\n",
        "\n",
        "def handle_new_item(purchase):\n",
        "    amount = get_valid_amount(purchase)\n",
        "    cart[purchase] = {\"amount\": amount}\n",
        "    stock[purchase][\"Stock\"] -= amount\n",
        "    print(f\"Added {amount} x {purchase} to cart.\")\n",
        "\n",
        "\n",
        "def handle_existing_item(purchase):\n",
        "    current = cart[purchase][\"amount\"]\n",
        "    print(f\"You have {current} x {purchase} in your cart.\")\n",
        "    while True:\n",
        "        action = input(\"Choose: (1) Adjust quantity, (2) Continue shopping, (3) Checkout: \").strip()\n",
        "        if action == '1':\n",
        "            new_amount = get_valid_amount(purchase)\n",
        "            diff = new_amount - current\n",
        "            stock[purchase][\"Stock\"] -= diff\n",
        "            cart[purchase][\"amount\"] = new_amount\n",
        "            print(f\"Updated {purchase} to {new_amount} units in cart.\")\n",
        "            return 'continue'\n",
        "        elif action == '2':\n",
        "            return 'continue'\n",
        "        elif action == '3':\n",
        "            return 'checkout'\n",
        "        else:\n",
        "            print(\"Invalid option; please enter 1, 2, or 3.\")\n",
        "\n",
        "\n",
        "def checkout():\n",
        "    total = calculate_subtotal()\n",
        "    print(\"\\nCheckout Summary:\")\n",
        "    for purchase, data in cart.items():\n",
        "        price = stock[purchase][\"Price\"]\n",
        "        print(f\"- {purchase}: {data['amount']} x ${price} = ${price * data['amount']}\")\n",
        "    print(f\"Total with tax: ${total}\\n\")\n",
        "    confirm = input(\"Proceed to payment? (y/n): \").strip().lower()\n",
        "    if confirm == 'y':\n",
        "        print(\"Payment successful. Thank you for shopping!\")\n",
        "        return True\n",
        "    else:\n",
        "        print(\"Checkout canceled; returning to shopping.\")\n",
        "        return False\n",
        "\n",
        "# Save transaction to a csv file\n",
        "def to_csv(cart):\n",
        "  cart_df = pd.DataFrame.from_dict(cart, orient='index')\n",
        "  cart_df.to_csv('cart_data.csv')\n",
        "\n",
        "def main():\n",
        "    print(\"Welcome to the shop!\\n\")\n",
        "    while True:\n",
        "        show_items()\n",
        "        purchase = get_valid_choice()\n",
        "        if purchase in cart:\n",
        "            action = handle_existing_item(purchase)\n",
        "        else:\n",
        "            handle_new_item(purchase)\n",
        "            action = input(\"Continue shopping or checkout? (c/checkout): \").strip().lower()\n",
        "        if action in ('checkout', '3'):\n",
        "            if checkout():\n",
        "                to_csv(cart)\n",
        "                break\n",
        "\n",
        "\n",
        "if __name__ == '__main__':\n",
        "    main()\n"
      ],
      "metadata": {
        "colab": {
          "base_uri": "https://localhost:8080/"
        },
        "id": "_4tEwjyBGw1W",
        "outputId": "51f43e5b-005b-4bd8-b2fd-30679586aef2"
      },
      "execution_count": 58,
      "outputs": [
        {
          "output_type": "stream",
          "name": "stdout",
          "text": [
            "Welcome to the shop!\n",
            "\n",
            "Available items:\n",
            "- Apple: 5 in stock at $20 each\n",
            "- Banana: 12 in stock at $17 each\n",
            "- Mango: 8 in stock at $25 each\n",
            "\n",
            "Choose an item: apple\n",
            "Enter quantity (1–5): 2\n",
            "Added 2 x Apple to cart.\n",
            "Continue shopping or checkout? (c/checkout): checkout\n",
            "\n",
            "Checkout Summary:\n",
            "- Mango: 2 x $25 = $50\n",
            "- Apple: 2 x $20 = $40\n",
            "Total with tax: $100.8\n",
            "\n",
            "Proceed to payment? (y/n): y\n",
            "Payment successful. Thank you for shopping!\n"
          ]
        }
      ]
    }
  ],
  "metadata": {
    "colab": {
      "provenance": [],
      "authorship_tag": "ABX9TyN2kgl36w6cudas1ILLrLtB"
    },
    "kernelspec": {
      "display_name": "Python 3",
      "name": "python3"
    },
    "language_info": {
      "name": "python"
    }
  },
  "nbformat": 4,
  "nbformat_minor": 0
}
